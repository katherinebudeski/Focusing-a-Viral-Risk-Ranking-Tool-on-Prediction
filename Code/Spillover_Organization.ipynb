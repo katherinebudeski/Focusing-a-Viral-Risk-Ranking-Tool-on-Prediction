{
  "nbformat": 4,
  "nbformat_minor": 0,
  "metadata": {
    "colab": {
      "provenance": []
    },
    "kernelspec": {
      "name": "python3",
      "display_name": "Python 3"
    },
    "language_info": {
      "name": "python"
    }
  },
  "cells": [
    {
      "cell_type": "code",
      "source": [
        "# Import libraries\n",
        "from google.colab import files\n",
        "import pandas as pd\n",
        "import re\n",
        "\n",
        "# Upload the csv file previously downloaded from Spillover Global website\n",
        "uploaded = files.upload()\n",
        "\n",
        "# Load the csv file\n",
        "df = pd.read_csv('SpilloverRankings.csv')\n",
        "\n",
        "# Print column names\n",
        "print(\"Columns in the dataframe:\", df.columns)\n"
      ],
      "metadata": {
        "id": "JvdOkNzOmGa9"
      },
      "execution_count": null,
      "outputs": []
    },
    {
      "cell_type": "code",
      "source": [
        "# Identify the 'Risk Levels' column\n",
        "data_column = 'Risk Levels'\n",
        "\n",
        "# Create extraction function to extract information from each cell in the 'Risk Levels' column\n",
        "def extract_info(cell):\n",
        "    pattern = r'Risk Name: (.+?)\\nRisk Score: ([0-9.]+)\\nImpact Score: ([0-9.]+)\\nWeighted Score: ([0-9.]+)\\nCorresponding level/levels: ([^\\n]*)(?:\\n|$)'\n",
        "    matches = re.findall(pattern, cell, re.MULTILINE)\n",
        "    return matches\n",
        "\n",
        "# Apply the extraction function to each row in the 'Risk Levels' column\n",
        "## Each row represents a virus in the Spillover database\n",
        "extracted_data = df[data_column].apply(extract_info)\n",
        "\n",
        "# Print extracted data\n",
        "print(\"Extracted data sample:\")\n",
        "print(extracted_data.head())\n",
        "\n",
        "# Initialize dictionary to store new columns' data\n",
        "new_columns_data = {}\n",
        "\n",
        "# Populate the new columns' dictionary with extracted data on the weighted scores\n",
        "# Ignore other information from the 'Risk Levels' column such as risk_score, impact_score, and corresponding_levels\n",
        "for idx, entry in extracted_data.items():\n",
        "    for match in entry:\n",
        "        risk_name, _, _, weighted_score, _ = match\n",
        "        risk_name = risk_name.strip()\n",
        "        # Initialize new column\n",
        "        if f'{risk_name} - Weighted Score' not in new_columns_data:\n",
        "            new_columns_data[f'{risk_name} - Weighted Score'] = [None] * len(df)\n",
        "        # Populate new column with the weighted scores\n",
        "        new_columns_data[f'{risk_name} - Weighted Score'][idx] = weighted_score.strip()\n",
        "\n",
        "# Print new columns' data to verify\n",
        "print(\"New columns data sample:\")\n",
        "for column_name, column_data in new_columns_data.items():\n",
        "    print(f\"{column_name}: {column_data[:5]}\")  # Print first 5 values for each new column\n",
        "\n",
        "# Create new columns in the dataframe using data from the populated dictionary\n",
        "for column_name, column_data in new_columns_data.items():\n",
        "    df[column_name] = column_data\n",
        "\n",
        "# Confirm columns\n",
        "print(\"Final columns in the DataFrame:\", df.columns)\n",
        "\n",
        "# Save the structured data to a new csv file\n",
        "output_file = 'structured_spillover_ranking_weighted.csv'\n",
        "df.to_csv(output_file, index=False)\n",
        "\n",
        "print(f\"Data successfully written to {output_file}\")\n",
        "\n",
        "# Download the structured csv file\n",
        "files.download(output_file)\n"
      ],
      "metadata": {
        "id": "9QjBxXO_lt4g"
      },
      "execution_count": null,
      "outputs": []
    }
  ]
}